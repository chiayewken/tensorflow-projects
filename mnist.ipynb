{
 "cells": [
  {
   "cell_type": "code",
   "execution_count": null,
   "metadata": {},
   "outputs": [],
   "source": [
    "# import tf and data from mnist\n",
    "import tensorflow as tf\n",
    "from tensorflow.examples.tutorials.mnist import input_data\n",
    "# one_hot argument means that for each label, the corresponding value is a 1, and the rest are zeroes\n",
    "mnist = input_data.read_data_sets(\"/tmp/data/\", one_hot = True)"
   ]
  },
  {
   "cell_type": "code",
   "execution_count": null,
   "metadata": {
    "collapsed": true
   },
   "outputs": [],
   "source": [
    "# set up three hidden layers, each with 500 nodes\n",
    "nodes1 = 500\n",
    "nodes2 = 500\n",
    "nodes3 = 500\n",
    "# number of classes, also is the number of nodes in output layer\n",
    "n_classes = 10\n",
    "# process data in batches given computing constraints\n",
    "batch_size = 100\n",
    "# data variables. note that for x the explicit argument is to filter unexpected data of the wrong size\n",
    "x = tf.placeholder('float', [None, 784])\n",
    "y = tf.placeholder('float')"
   ]
  },
  {
   "cell_type": "code",
   "execution_count": null,
   "metadata": {
    "collapsed": true
   },
   "outputs": [],
   "source": [
    "def neural_network_model(data):\n",
    "    # laying out structure of neural network, no computation formulas yet\n",
    "    # weights are matrices with shape m*n\n",
    "    # m is number of input nodes, n is number of output nodes for that layer\n",
    "    # biases are vectors with length l\n",
    "    # l is number of output nodes for that layer\n",
    "    # here the weights and biases are initialised randomly\n",
    "    def layer(i,o):\n",
    "        return {'weights':tf.Variable(tf.random_normal([i,o])),\n",
    "               'biases': tf.Variable(tf.random_normal([o]))}\n",
    "    \n",
    "    hl1 = layer(784,nodes1)\n",
    "    hl2 = layer(nodes1, nodes2)\n",
    "    hl3 = layer(nodes2, nodes3)\n",
    "    ol = layer(nodes3, n_classes)\n",
    "\n",
    "    # now defining the mathematical flow of data through the neural network\n",
    "    # at each layer, output activation value = relu((input x weights) + biases)\n",
    "    def activate(i,o):\n",
    "        value = tf.add(tf.matmul(i, o['weights']), o['biases'])\n",
    "        return tf.nn.relu(value)\n",
    "    \n",
    "    l1 = activate(data, hl1)\n",
    "    l2 = activate(l1, hl2)\n",
    "    l3 = activate(l2, hl3)\n",
    "    output = tf.matmul(l3,ol['weights']) + ol['biases']\n",
    "\n",
    "    return output"
   ]
  },
  {
   "cell_type": "code",
   "execution_count": null,
   "metadata": {},
   "outputs": [],
   "source": [
    "def train_neural_network(x):\n",
    "    prediction = neural_network_model(x)\n",
    "    # cost function\n",
    "    cost = tf.reduce_mean(tf.nn.softmax_cross_entropy_with_logits(logits=prediction, labels=y))\n",
    "    # minimise cost with Adam Optimizer\n",
    "    optimizer = tf.train.AdamOptimizer().minimize(cost)\n",
    "    # each epoch is a training iteration where we calculate the cost and optimize weights and biases\n",
    "    epochs = 10\n",
    "    with tf.Session() as sess:\n",
    "        sess.run(tf.global_variables_initializer())\n",
    "        # for each epoch:\n",
    "        for epoch in range(epochs):\n",
    "            epoch_loss = 0\n",
    "            # for each batch:\n",
    "            for n in range(int(mnist.train.num_examples/batch_size)):\n",
    "                # calculate cost and optimze\n",
    "                epoch_x, epoch_y = mnist.train.next_batch(batch_size)\n",
    "                n, c = sess.run([optimizer, cost], feed_dict={x: epoch_x, y: epoch_y})\n",
    "                epoch_loss += c\n",
    "\n",
    "            print('Epoch', epoch, 'completed out of',epochs,'loss:',epoch_loss)\n",
    "        # tf.argmax gives index (label) of the highest value (confidence) across the axis \n",
    "        # basically turns the matrixes of probabilities into a vector of predicted label values\n",
    "        # tf.argmax tells us if the predicted label matches the actual label\n",
    "        correct = tf.equal(tf.argmax(prediction, 1), tf.argmax(y, 1))\n",
    "        #calculate accuracy\n",
    "        accuracy = tf.reduce_mean(tf.cast(correct, 'float'))\n",
    "        print('Accuracy:',accuracy.eval({x:mnist.test.images, y:mnist.test.labels}))\n",
    "\n",
    "train_neural_network(x)"
   ]
  },
  {
   "cell_type": "code",
   "execution_count": null,
   "metadata": {
    "collapsed": true
   },
   "outputs": [],
   "source": []
  }
 ],
 "metadata": {
  "kernelspec": {
   "display_name": "Python 3",
   "language": "python",
   "name": "python3"
  },
  "language_info": {
   "codemirror_mode": {
    "name": "ipython",
    "version": 3
   },
   "file_extension": ".py",
   "mimetype": "text/x-python",
   "name": "python",
   "nbconvert_exporter": "python",
   "pygments_lexer": "ipython3",
   "version": "3.5.3"
  }
 },
 "nbformat": 4,
 "nbformat_minor": 2
}
