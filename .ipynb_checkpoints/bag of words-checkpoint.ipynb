{
 "cells": [
  {
   "cell_type": "code",
   "execution_count": 1,
   "metadata": {},
   "outputs": [
    {
     "name": "stderr",
     "output_type": "stream",
     "text": [
      "C:\\Python35\\lib\\site-packages\\h5py\\__init__.py:34: FutureWarning: Conversion of the second argument of issubdtype from `float` to `np.floating` is deprecated. In future, it will be treated as `np.float64 == np.dtype(float).type`.\n",
      "  from ._conv import register_converters as _register_converters\n"
     ]
    },
    {
     "name": "stdout",
     "output_type": "stream",
     "text": [
      "lexicon length = 423\n",
      "total sample size = 10662\n",
      "train = 9596, test = 1066\n"
     ]
    }
   ],
   "source": [
    "from pre_nlp import featureset\n",
    "import tensorflow as tf\n",
    "import numpy as np\n",
    "\n",
    "pos = 'C:/Users/chiay/Downloads/git/tensorflow/pos.txt'\n",
    "neg = 'C:/Users/chiay/Downloads/git/tensorflow/neg.txt'\n",
    "xtrain,ytrain,xtest,ytest = featureset(pos,neg,test_fraction=0.1)"
   ]
  },
  {
   "cell_type": "code",
   "execution_count": 2,
   "metadata": {
    "collapsed": true
   },
   "outputs": [],
   "source": [
    "# set up three hidden layers, each with 1500 nodes\n",
    "nodes1 = 1500\n",
    "nodes2 = 1500\n",
    "nodes3 = 1500\n",
    "# number of classes, also is the number of nodes in output layer\n",
    "n_classes = 2\n",
    "# process data in batches given computing constraints\n",
    "batch_size = 100\n",
    "# x and y data variables\n",
    "x = tf.placeholder('float')\n",
    "y = tf.placeholder('float')"
   ]
  },
  {
   "cell_type": "code",
   "execution_count": 3,
   "metadata": {
    "collapsed": true
   },
   "outputs": [],
   "source": [
    "def neural_network_model(data):\n",
    "    # laying out structure of neural network, no computation formulas yet\n",
    "    # weights are matrices with shape m*n\n",
    "    # m is number of input nodes, n is number of output nodes for that layer\n",
    "    # biases are vectors with length l\n",
    "    # l is number of output nodes for that layer\n",
    "    # here the weights and biases are initialised randomly\n",
    "    def layer(i,o):\n",
    "        return {'weights':tf.Variable(tf.random_normal([i,o])),\n",
    "               'biases': tf.Variable(tf.random_normal([o]))}\n",
    "    \n",
    "    hl1 = layer(len(xtrain[0]),nodes1)\n",
    "    hl2 = layer(nodes1, nodes2)\n",
    "    hl3 = layer(nodes2, nodes3)\n",
    "    ol = layer(nodes3, n_classes)\n",
    "\n",
    "    # now defining the mathematical flow of data through the neural network\n",
    "    # at each layer, output activation value = relu((input x weights) + biases)\n",
    "    def activate(i,o):\n",
    "        value = tf.add(tf.matmul(i, o['weights']), o['biases'])\n",
    "        return tf.nn.relu(value)\n",
    "    \n",
    "    l1 = activate(data, hl1)\n",
    "    l2 = activate(l1, hl2)\n",
    "    l3 = activate(l2, hl3)\n",
    "    output = tf.matmul(l3,ol['weights']) + ol['biases']\n",
    "\n",
    "    return output"
   ]
  },
  {
   "cell_type": "code",
   "execution_count": 4,
   "metadata": {},
   "outputs": [
    {
     "name": "stdout",
     "output_type": "stream",
     "text": [
      "WARNING:tensorflow:From <ipython-input-4-5b5b2ef1cedb>:4: softmax_cross_entropy_with_logits (from tensorflow.python.ops.nn_ops) is deprecated and will be removed in a future version.\n",
      "Instructions for updating:\n",
      "\n",
      "Future major versions of TensorFlow will allow gradients to flow\n",
      "into the labels input on backprop by default.\n",
      "\n",
      "See tf.nn.softmax_cross_entropy_with_logits_v2.\n",
      "\n",
      "Epoch 1 completed out of 10 loss: 1120109.0952148438\n",
      "Epoch 2 completed out of 10 loss: 472558.9139404297\n",
      "Epoch 3 completed out of 10 loss: 310383.08111572266\n",
      "Epoch 4 completed out of 10 loss: 218865.90446472168\n",
      "Epoch 5 completed out of 10 loss: 192007.9891052246\n",
      "Epoch 6 completed out of 10 loss: 130097.50730514526\n",
      "Epoch 7 completed out of 10 loss: 61213.93138885498\n",
      "Epoch 8 completed out of 10 loss: 18224.823096990585\n",
      "Epoch 9 completed out of 10 loss: 13066.511146306992\n",
      "Epoch 10 completed out of 10 loss: 9540.859710216522\n",
      "Accuracy: 0.6210131\n"
     ]
    }
   ],
   "source": [
    "def train_neural_network(x):\n",
    "    prediction = neural_network_model(x)\n",
    "    # cost function\n",
    "    cost = tf.reduce_mean(tf.nn.softmax_cross_entropy_with_logits(logits=prediction, labels=y))\n",
    "    # minimise cost with Adam Optimizer\n",
    "    optimizer = tf.train.AdamOptimizer(learning_rate=0.001).minimize(cost)\n",
    "    # each epoch is a training iteration where we calculate the cost and optimize weights and biases\n",
    "    epochs = 10\n",
    "    with tf.Session() as sess:\n",
    "        sess.run(tf.global_variables_initializer())\n",
    "        # for each epoch:\n",
    "        for epoch in range(epochs):\n",
    "            epoch_loss = 0\n",
    "            i = 0\n",
    "            # for each batch:\n",
    "            while i < len(xtrain):\n",
    "                start = i \n",
    "                end = i + batch_size\n",
    "                xbatch = np.array(xtrain[start:end])\n",
    "                ybatch = np.array(ytrain[start:end])\n",
    "                n, c = sess.run([optimizer, cost], feed_dict={x: xbatch, y: ybatch})\n",
    "                epoch_loss += c\n",
    "                i += batch_size\n",
    "\n",
    "            print('Epoch', epoch + 1, 'completed out of',epochs,'loss:',epoch_loss)\n",
    "        # tf.argmax gives index (label) of the highest value (confidence) across the axis \n",
    "        # basically turns the matrixes of probabilities into a vector of predicted label values\n",
    "        # tf.argmax tells us if the predicted label matches the actual label\n",
    "        correct = tf.equal(tf.argmax(prediction, 1), tf.argmax(y, 1))\n",
    "        #calculate accuracy\n",
    "        accuracy = tf.reduce_mean(tf.cast(correct, 'float'))\n",
    "        print('Accuracy:',accuracy.eval({x:xtest, y:ytest}))\n",
    "\n",
    "train_neural_network(x)"
   ]
  },
  {
   "cell_type": "code",
   "execution_count": null,
   "metadata": {
    "collapsed": true
   },
   "outputs": [],
   "source": []
  }
 ],
 "metadata": {
  "kernelspec": {
   "display_name": "Python 3",
   "language": "python",
   "name": "python3"
  },
  "language_info": {
   "codemirror_mode": {
    "name": "ipython",
    "version": 3
   },
   "file_extension": ".py",
   "mimetype": "text/x-python",
   "name": "python",
   "nbconvert_exporter": "python",
   "pygments_lexer": "ipython3",
   "version": "3.5.3"
  }
 },
 "nbformat": 4,
 "nbformat_minor": 2
}
