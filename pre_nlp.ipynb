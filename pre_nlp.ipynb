{
 "cells": [
  {
   "cell_type": "code",
   "execution_count": 1,
   "metadata": {
    "collapsed": true
   },
   "outputs": [],
   "source": [
    "import nltk\n",
    "from nltk.tokenize import word_tokenize as tokenize\n",
    "import numpy as np\n",
    "import random\n",
    "from collections import Counter\n",
    "from nltk.stem import WordNetLemmatizer\n",
    "\n",
    "lemma = WordNetLemmatizer()\n",
    "line_limit = 100000"
   ]
  },
  {
   "cell_type": "code",
   "execution_count": 2,
   "metadata": {
    "collapsed": true
   },
   "outputs": [],
   "source": [
    "def create_lexicon(pos,neg):\n",
    "    lexicon = []\n",
    "    \n",
    "    def add_words(file, lexicon):\n",
    "        with open(file, 'r') as f:\n",
    "            lines = f.readlines()\n",
    "            for line in lines[:line_limit]:\n",
    "                words = tokenize(line)\n",
    "                lexicon += list(words)\n",
    "                \n",
    "    add_words(pos, lexicon)\n",
    "    add_words(neg, lexicon)\n",
    "            \n",
    "    lexicon = [lemma.lemmatize(word) for word in lexicon]\n",
    "    counted_lexicon = []\n",
    "    count = Counter(lexicon)\n",
    "    for word in count:\n",
    "        if 1000>count[word]>50:\n",
    "            counted_lexicon.append(word)\n",
    "    lexicon = counted_lexicon\n",
    "    print('lexicon length = {}'.format(len(lexicon)))\n",
    "    return lexicon\n",
    "            "
   ]
  },
  {
   "cell_type": "code",
   "execution_count": 3,
   "metadata": {
    "collapsed": true
   },
   "outputs": [],
   "source": [
    "def create_features(sample,lexicon,classification):\n",
    "    featureset = []\n",
    "    with open(sample, 'r') as file:\n",
    "        contents = file.readlines()\n",
    "        for line in contents[:line_limit]:\n",
    "            current_words = tokenize(line.lower())\n",
    "            current_words = [lemma.lemmatize(word) for word in current_words]\n",
    "            features = np.zeros(len(lexicon))\n",
    "            for word in current_words:\n",
    "                if word in lexicon:\n",
    "                    index = lexicon.index(word)\n",
    "                    features[index] += 1\n",
    "            features = list(features)\n",
    "            featureset.append([features, classification])\n",
    "    return featureset"
   ]
  },
  {
   "cell_type": "code",
   "execution_count": 4,
   "metadata": {
    "collapsed": true
   },
   "outputs": [],
   "source": [
    "def featureset(pos,neg,test_fraction):\n",
    "    lexicon = create_lexicon(pos,neg)\n",
    "    features = []\n",
    "    features += create_features(pos,lexicon,[1,0])\n",
    "    features += create_features(neg,lexicon,[0,1])\n",
    "    random.shuffle(features)\n",
    "    features = np.array(features)\n",
    "    \n",
    "    test_size = int(test_fraction*len(features))\n",
    "    \n",
    "    xtrain = list(features[:,0][test_size:])\n",
    "    ytrain = list(features[:,1][test_size:])\n",
    "    xtest = list(features[:,0][:test_size])\n",
    "    ytest = list(features[:,1][:test_size])\n",
    "    print('total sample size = {}'.format(len(features)))\n",
    "    print('train = {}, test = {}' .format(len(xtrain), len(xtest)))\n",
    "    return xtrain,ytrain,xtest,ytest"
   ]
  },
  {
   "cell_type": "code",
   "execution_count": 5,
   "metadata": {},
   "outputs": [
    {
     "name": "stdout",
     "output_type": "stream",
     "text": [
      "lexicon length = 423\n",
      "total sample size = 10662\n",
      "train = 9596, test = 1066\n"
     ]
    }
   ],
   "source": [
    "pos = 'C:/Users/chiay/Downloads/git/tensorflow/pos.txt'\n",
    "neg = 'C:/Users/chiay/Downloads/git/tensorflow/neg.txt'\n",
    "xtrain,ytrain,xtest,ytest = featureset(pos,neg,test_fraction=0.1)"
   ]
  },
  {
   "cell_type": "code",
   "execution_count": null,
   "metadata": {},
   "outputs": [],
   "source": []
  }
 ],
 "metadata": {
  "kernelspec": {
   "display_name": "Python 3",
   "language": "python",
   "name": "python3"
  },
  "language_info": {
   "codemirror_mode": {
    "name": "ipython",
    "version": 3
   },
   "file_extension": ".py",
   "mimetype": "text/x-python",
   "name": "python",
   "nbconvert_exporter": "python",
   "pygments_lexer": "ipython3",
   "version": "3.5.3"
  }
 },
 "nbformat": 4,
 "nbformat_minor": 2
}
